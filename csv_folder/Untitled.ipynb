{
 "cells": [
  {
   "cell_type": "code",
   "execution_count": 1,
   "metadata": {},
   "outputs": [
    {
     "data": {
      "text/html": [
       "<div>\n",
       "<style scoped>\n",
       "    .dataframe tbody tr th:only-of-type {\n",
       "        vertical-align: middle;\n",
       "    }\n",
       "\n",
       "    .dataframe tbody tr th {\n",
       "        vertical-align: top;\n",
       "    }\n",
       "\n",
       "    .dataframe thead th {\n",
       "        text-align: right;\n",
       "    }\n",
       "</style>\n",
       "<table border=\"1\" class=\"dataframe\">\n",
       "  <thead>\n",
       "    <tr style=\"text-align: right;\">\n",
       "      <th></th>\n",
       "      <th>Date</th>\n",
       "      <th>Confirmed</th>\n",
       "      <th>Deaths</th>\n",
       "      <th>New_Cases</th>\n",
       "      <th>New_Deaths</th>\n",
       "      <th>Population_Affected</th>\n",
       "      <th>Average</th>\n",
       "      <th>Ave_per_100k</th>\n",
       "      <th>New_Cases_2wks</th>\n",
       "      <th>NC_2wks_per_100k</th>\n",
       "      <th>County</th>\n",
       "      <th>State</th>\n",
       "    </tr>\n",
       "  </thead>\n",
       "  <tbody>\n",
       "    <tr>\n",
       "      <th>0</th>\n",
       "      <td>12/3/20</td>\n",
       "      <td>6258</td>\n",
       "      <td>152</td>\n",
       "      <td>120</td>\n",
       "      <td>3</td>\n",
       "      <td>0.02048</td>\n",
       "      <td>128</td>\n",
       "      <td>41</td>\n",
       "      <td>1436</td>\n",
       "      <td>470</td>\n",
       "      <td>Albany</td>\n",
       "      <td>New York</td>\n",
       "    </tr>\n",
       "    <tr>\n",
       "      <th>1</th>\n",
       "      <td>12/3/20</td>\n",
       "      <td>1095</td>\n",
       "      <td>57</td>\n",
       "      <td>26</td>\n",
       "      <td>1</td>\n",
       "      <td>0.02376</td>\n",
       "      <td>19</td>\n",
       "      <td>42</td>\n",
       "      <td>386</td>\n",
       "      <td>837</td>\n",
       "      <td>Allegany</td>\n",
       "      <td>New York</td>\n",
       "    </tr>\n",
       "    <tr>\n",
       "      <th>2</th>\n",
       "      <td>12/3/20</td>\n",
       "      <td>65530</td>\n",
       "      <td>5024</td>\n",
       "      <td>525</td>\n",
       "      <td>0</td>\n",
       "      <td>0.04621</td>\n",
       "      <td>476</td>\n",
       "      <td>33</td>\n",
       "      <td>5674</td>\n",
       "      <td>400</td>\n",
       "      <td>Bronx</td>\n",
       "      <td>New York</td>\n",
       "    </tr>\n",
       "    <tr>\n",
       "      <th>3</th>\n",
       "      <td>12/3/20</td>\n",
       "      <td>5657</td>\n",
       "      <td>156</td>\n",
       "      <td>106</td>\n",
       "      <td>3</td>\n",
       "      <td>0.02970</td>\n",
       "      <td>84</td>\n",
       "      <td>44</td>\n",
       "      <td>1037</td>\n",
       "      <td>544</td>\n",
       "      <td>Broome</td>\n",
       "      <td>New York</td>\n",
       "    </tr>\n",
       "    <tr>\n",
       "      <th>4</th>\n",
       "      <td>12/3/20</td>\n",
       "      <td>1252</td>\n",
       "      <td>27</td>\n",
       "      <td>53</td>\n",
       "      <td>1</td>\n",
       "      <td>0.01645</td>\n",
       "      <td>35</td>\n",
       "      <td>46</td>\n",
       "      <td>472</td>\n",
       "      <td>620</td>\n",
       "      <td>Cattaraugus</td>\n",
       "      <td>New York</td>\n",
       "    </tr>\n",
       "  </tbody>\n",
       "</table>\n",
       "</div>"
      ],
      "text/plain": [
       "      Date  Confirmed  Deaths  New_Cases  New_Deaths  Population_Affected  \\\n",
       "0  12/3/20       6258     152        120           3              0.02048   \n",
       "1  12/3/20       1095      57         26           1              0.02376   \n",
       "2  12/3/20      65530    5024        525           0              0.04621   \n",
       "3  12/3/20       5657     156        106           3              0.02970   \n",
       "4  12/3/20       1252      27         53           1              0.01645   \n",
       "\n",
       "   Average  Ave_per_100k  New_Cases_2wks  NC_2wks_per_100k       County  \\\n",
       "0      128            41            1436               470       Albany   \n",
       "1       19            42             386               837     Allegany   \n",
       "2      476            33            5674               400        Bronx   \n",
       "3       84            44            1037               544       Broome   \n",
       "4       35            46             472               620  Cattaraugus   \n",
       "\n",
       "      State  \n",
       "0  New York  \n",
       "1  New York  \n",
       "2  New York  \n",
       "3  New York  \n",
       "4  New York  "
      ]
     },
     "execution_count": 1,
     "metadata": {},
     "output_type": "execute_result"
    }
   ],
   "source": [
    "import pandas as pd\n",
    "import os\n",
    "import time\n",
    "df = pd.read_excel('NYS.xlsx')\n",
    "df.head()"
   ]
  },
  {
   "cell_type": "code",
   "execution_count": 61,
   "metadata": {},
   "outputs": [],
   "source": [
    "def counties_per_state_to_csv(df , State):\n",
    "\n",
    "    folder_date = df.iloc[:1,:1].values\n",
    "\n",
    "    for f in folder_date:\n",
    "        x = f\n",
    "        date_name =str(x[0])\n",
    "        folder_name = State + '_' + date_name\n",
    "\n",
    "    folder_name\n",
    "\n",
    "    file_names = []\n",
    "    names = df['County'].values\n",
    "    x = 0\n",
    "    for county in names:\n",
    "        county_file_name = county + '.xlsx'\n",
    "        df2 =df.loc[df['County']== county]\n",
    "        df2.to_excel(county_file_name)\n",
    "        x=x+1\n",
    "\n",
    "    return \n",
    "counties_per_state_to_csv(df, \"New York\")"
   ]
  },
  {
   "cell_type": "code",
   "execution_count": 57,
   "metadata": {},
   "outputs": [
    {
     "data": {
      "text/html": [
       "<div>\n",
       "<style scoped>\n",
       "    .dataframe tbody tr th:only-of-type {\n",
       "        vertical-align: middle;\n",
       "    }\n",
       "\n",
       "    .dataframe tbody tr th {\n",
       "        vertical-align: top;\n",
       "    }\n",
       "\n",
       "    .dataframe thead th {\n",
       "        text-align: right;\n",
       "    }\n",
       "</style>\n",
       "<table border=\"1\" class=\"dataframe\">\n",
       "  <thead>\n",
       "    <tr style=\"text-align: right;\">\n",
       "      <th></th>\n",
       "      <th>Date</th>\n",
       "      <th>Confirmed</th>\n",
       "      <th>Deaths</th>\n",
       "      <th>New_Cases</th>\n",
       "      <th>New_Deaths</th>\n",
       "      <th>Population_Affected</th>\n",
       "      <th>Average</th>\n",
       "      <th>Ave_per_100k</th>\n",
       "      <th>New_Cases_2wks</th>\n",
       "      <th>NC_2wks_per_100k</th>\n",
       "      <th>County</th>\n",
       "      <th>State</th>\n",
       "    </tr>\n",
       "  </thead>\n",
       "  <tbody>\n",
       "  </tbody>\n",
       "</table>\n",
       "</div>"
      ],
      "text/plain": [
       "Empty DataFrame\n",
       "Columns: [Date, Confirmed, Deaths, New_Cases, New_Deaths, Population_Affected, Average, Ave_per_100k, New_Cases_2wks, NC_2wks_per_100k, County, State]\n",
       "Index: []"
      ]
     },
     "execution_count": 57,
     "metadata": {},
     "output_type": "execute_result"
    }
   ],
   "source": [
    "df2"
   ]
  },
  {
   "cell_type": "code",
   "execution_count": null,
   "metadata": {},
   "outputs": [],
   "source": [
    "\n",
    "\n",
    "path1 = !pwd\n",
    "path1[0]\n",
    "new_path = os.path.join(path1[0], folder_name)\n",
    "new_path\n",
    "!mkdir new_path\n",
    "file_namesnames = df['County'].values"
   ]
  },
  {
   "cell_type": "code",
   "execution_count": 12,
   "metadata": {},
   "outputs": [
    {
     "data": {
      "text/html": [
       "<div>\n",
       "<style scoped>\n",
       "    .dataframe tbody tr th:only-of-type {\n",
       "        vertical-align: middle;\n",
       "    }\n",
       "\n",
       "    .dataframe tbody tr th {\n",
       "        vertical-align: top;\n",
       "    }\n",
       "\n",
       "    .dataframe thead th {\n",
       "        text-align: right;\n",
       "    }\n",
       "</style>\n",
       "<table border=\"1\" class=\"dataframe\">\n",
       "  <thead>\n",
       "    <tr style=\"text-align: right;\">\n",
       "      <th></th>\n",
       "      <th>Date</th>\n",
       "      <th>Confirmed</th>\n",
       "      <th>Deaths</th>\n",
       "      <th>New_Cases</th>\n",
       "      <th>New_Deaths</th>\n",
       "      <th>Population_Affected</th>\n",
       "      <th>Average</th>\n",
       "      <th>Ave_per_100k</th>\n",
       "      <th>New_Cases_2wks</th>\n",
       "      <th>NC_2wks_per_100k</th>\n",
       "      <th>County</th>\n",
       "      <th>State</th>\n",
       "    </tr>\n",
       "  </thead>\n",
       "  <tbody>\n",
       "    <tr>\n",
       "      <th>0</th>\n",
       "      <td>12/3/20</td>\n",
       "      <td>6258</td>\n",
       "      <td>152</td>\n",
       "      <td>120</td>\n",
       "      <td>3</td>\n",
       "      <td>0.02048</td>\n",
       "      <td>128</td>\n",
       "      <td>41</td>\n",
       "      <td>1436</td>\n",
       "      <td>470</td>\n",
       "      <td>Albany</td>\n",
       "      <td>New York</td>\n",
       "    </tr>\n",
       "  </tbody>\n",
       "</table>\n",
       "</div>"
      ],
      "text/plain": [
       "      Date  Confirmed  Deaths  New_Cases  New_Deaths  Population_Affected  \\\n",
       "0  12/3/20       6258     152        120           3              0.02048   \n",
       "\n",
       "   Average  Ave_per_100k  New_Cases_2wks  NC_2wks_per_100k  County     State  \n",
       "0      128            41            1436               470  Albany  New York  "
      ]
     },
     "execution_count": 12,
     "metadata": {},
     "output_type": "execute_result"
    }
   ],
   "source": [
    "\n",
    "names = df.loc[df['County']== 'Albany']\n",
    "\n",
    "names"
   ]
  },
  {
   "cell_type": "code",
   "execution_count": 13,
   "metadata": {},
   "outputs": [
    {
     "name": "stdout",
     "output_type": "stream",
     "text": [
      "/Users/edwardbeck/Covid_Stats/csv_folder\r\n"
     ]
    }
   ],
   "source": [
    "path1 = !pwd\n",
    "path1[0]\n",
    "new_path = os.path.join(path1[0], folder_name)\n",
    "new_path\n",
    "\n",
    "file_namesnames = df['County'].values\n",
    "\n",
    "file_names = []\n",
    "for county in names:\n",
    "    county_file_name = county + '.xsls'\n",
    "    df2 =df.loc[df['County']== county]\n",
    "    df2.to_excel(county_file_name)\n",
    "    \n",
    "\n"
   ]
  },
  {
   "cell_type": "code",
   "execution_count": 44,
   "metadata": {},
   "outputs": [
    {
     "name": "stdout",
     "output_type": "stream",
     "text": [
      "mv: rename entire_file_name to county_file_name: No such file or directory\r\n"
     ]
    }
   ],
   "source": [
    "!mkdir new_path\n",
    "names.to_excel('Names.xlsx')\n",
    "\n",
    "path1[0]\n",
    "new_path = os.path.join(path1[0], folder_name)\n",
    "new_path\n",
    "!mkdir new_path"
   ]
  },
  {
   "cell_type": "code",
   "execution_count": 49,
   "metadata": {},
   "outputs": [
    {
     "name": "stdout",
     "output_type": "stream",
     "text": [
      "mv: rename entire_file_name to county_file_name: No such file or directory\r\n"
     ]
    }
   ],
   "source": [
    "county_file_name = 'Names.xlsx'\n",
    "entire_file_name = path1[0] + '/'+ county_file_name\n",
    "entire_file_name\n",
    "!mv entire_file_name county_file_name"
   ]
  },
  {
   "cell_type": "code",
   "execution_count": 51,
   "metadata": {},
   "outputs": [
    {
     "data": {
      "text/plain": [
       "'/Users/edwardbeck/Covid_Stats/csv_folder/New York_12/3/20'"
      ]
     },
     "execution_count": 51,
     "metadata": {},
     "output_type": "execute_result"
    }
   ],
   "source": [
    "entire_file_name\n",
    "new_path\n",
    "folder"
   ]
  }
 ],
 "metadata": {
  "kernelspec": {
   "display_name": "Python 3",
   "language": "python",
   "name": "python3"
  },
  "language_info": {
   "codemirror_mode": {
    "name": "ipython",
    "version": 3
   },
   "file_extension": ".py",
   "mimetype": "text/x-python",
   "name": "python",
   "nbconvert_exporter": "python",
   "pygments_lexer": "ipython3",
   "version": "3.7.6"
  }
 },
 "nbformat": 4,
 "nbformat_minor": 4
}
